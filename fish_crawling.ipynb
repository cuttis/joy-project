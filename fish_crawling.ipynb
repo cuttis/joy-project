{
 "cells": [
  {
   "cell_type": "code",
   "execution_count": 5,
   "metadata": {},
   "outputs": [],
   "source": [
    "import urllib.request\n",
    "import urllib.parse\n",
    "from bs4 import BeautifulSoup\n",
    "import os"
   ]
  },
  {
   "cell_type": "code",
   "execution_count": 10,
   "metadata": {},
   "outputs": [],
   "source": [
    "urladdress1= 'https://search.naver.com/search.naver?sm=tab_hty.top&where=image&query='\n",
    "\n",
    "kinds_list = ['광어회', '우럭회', '연어회', '방어회', '참치회', '도미회', '농어회']\n",
    "\n",
    "for kinds in kinds_list:\n",
    "    add_address = urllib.parse.quote_plus(kinds)\n",
    "\n",
    "\n",
    "    htmlcontent = urllib.request.urlopen(urladdress1+add_address).read()\n",
    "    verification = BeautifulSoup(htmlcontent, 'html.parser')\n",
    "\n",
    "    imglist = verification.select(\"img\")\n",
    "    count=0\n",
    "\n",
    "    try:\n",
    "        if not os.path.exists('./'+kinds):\n",
    "            os.makedirs('./'+kinds)\n",
    "    except OSError:\n",
    "        print(\"Error: creating directory \", kinds)\n",
    "\n",
    "\n",
    "    for img in imglist:\n",
    "        img_src = img.get('src')\n",
    "        \n",
    "        with urllib.request.urlopen(img_src) as f:\n",
    "            with open('./'+kinds+'/'+kinds+'_'+str(count)+'.jpg', 'wb') as b:\n",
    "                img_data = f.read()\n",
    "                b.write(img_data)\n",
    "\n",
    "        count += 1\n",
    "\n",
    "        if count > 100:\n",
    "            break"
   ]
  },
  {
   "cell_type": "code",
   "execution_count": null,
   "metadata": {},
   "outputs": [],
   "source": [
    "!pip install selenium"
   ]
  },
  {
   "cell_type": "code",
   "execution_count": null,
   "metadata": {},
   "outputs": [],
   "source": [
    "from selenium import webdriver\n",
    "import time\n",
    "\n"
   ]
  },
  {
   "cell_type": "code",
   "execution_count": 39,
   "metadata": {},
   "outputs": [],
   "source": [
    "def crawling_img(kinds):\n",
    "\n",
    "    driver = webdriver.Chrome('chromedriver')\n",
    "    driver.implicitly_wait(3)\n",
    "\n",
    "    urladdress= 'https://search.naver.com/search.naver?sm=tab_hty.top&where=image&query='+kinds\n",
    "\n",
    "    driver.get(urladdress)\n",
    "    for i in range(5):\n",
    "        driver.execute_script('window.scrollTo(0, document.body.scrollHeight);')\n",
    "        time.sleep(1)\n",
    "\n",
    "\n",
    "    soup = BeautifulSoup(driver.page_source, 'html.parser')\n",
    "    imglist = soup.select('img')\n",
    "    print(len(imglist))\n",
    "\n",
    "    count = 0\n",
    "\n",
    "    try:\n",
    "        if not os.path.exists('./'+kinds):\n",
    "            os.makedirs('./'+kinds)\n",
    "    except OSError:\n",
    "        print(\"Error: creating directory \", kinds)\n",
    "        \n",
    "    for img in imglist:\n",
    "            img_src = img.get('src')\n",
    "            # print(img_src)\n",
    "            \n",
    "            if len(img_src) <100 :\n",
    "                \n",
    "                img_src = img.get('data-lazy-src')\n",
    "                # print(\"get data-lazy-src\", img_src)\n",
    "\n",
    "            if img_src :\n",
    "\n",
    "                with urllib.request.urlopen(img_src) as f:\n",
    "                    with open('./'+kinds+'/'+kinds+'_'+str(count)+'.jpg', 'wb') as b:\n",
    "                        img_data = f.read()\n",
    "                        b.write(img_data)\n",
    "\n",
    "                count += 1\n",
    "\n",
    "            if count > 300:\n",
    "                break\n",
    "\n",
    "    driver.quit()"
   ]
  },
  {
   "cell_type": "code",
   "execution_count": 40,
   "metadata": {},
   "outputs": [
    {
     "name": "stdout",
     "output_type": "stream",
     "text": [
      "471\n",
      "466\n",
      "479\n",
      "476\n",
      "480\n",
      "452\n",
      "466\n"
     ]
    }
   ],
   "source": [
    "kinds_list = ['광어회', '우럭회', '연어회', '방어회', '참치회', '도미회', '농어회']\n",
    "\n",
    "for kinds in kinds_list:\n",
    "    crawling_img(kinds)"
   ]
  },
  {
   "cell_type": "code",
   "execution_count": null,
   "metadata": {},
   "outputs": [],
   "source": []
  }
 ],
 "metadata": {
  "interpreter": {
   "hash": "8fac594bfae6525c0c41b4041d2d72effa188cc8ead05f81b1fab2bb098927fb"
  },
  "kernelspec": {
   "display_name": "Python 3.8.8 64-bit ('base': conda)",
   "language": "python",
   "name": "python3"
  },
  "language_info": {
   "codemirror_mode": {
    "name": "ipython",
    "version": 3
   },
   "file_extension": ".py",
   "mimetype": "text/x-python",
   "name": "python",
   "nbconvert_exporter": "python",
   "pygments_lexer": "ipython3",
   "version": "3.8.8"
  },
  "orig_nbformat": 4
 },
 "nbformat": 4,
 "nbformat_minor": 2
}
